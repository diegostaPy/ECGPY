{
 "cells": [
  {
   "cell_type": "code",
   "execution_count": 1,
   "id": "overall-listening",
   "metadata": {},
   "outputs": [],
   "source": [
    "import pandas as pd\n",
    "\n",
    "# Load ECGs\n",
    "ecgs = [\"datasetsCSV/gudb/ECGs.csv\",\n",
    "        \"datasetsCSV/mit_arrhythmia/ECGs.csv\",\n",
    "        \"datasetsCSV/mit_normal/ECGs.csv\",\n",
    "        \"datasetsCSV/ludb/ECGs.csv\",\n",
    "        \"datasetsCSV/fantasia/ECGs.csv\"]\n",
    "\n",
    "# Load True R-peaks location\n",
    "rpeaks = [pd.read_csv(\"datasetsCSV/gudb/Rpeaks.csv\"),\n",
    "          pd.read_csv(\"datasetsCSV/mit_arrhythmia/Rpeaks.csv\"),\n",
    "          pd.read_csv(\"datasetsCSV/mit_normal/Rpeaks.csv\"),\n",
    "          pd.read_csv(\"datasetsCSV/ludb/Rpeaks.csv\"),\n",
    "          pd.read_csv(\"datasetsCSV/fantasia/Rpeaks.csv\")]"
   ]
  },
  {
   "cell_type": "code",
   "execution_count": 2,
   "id": "stupid-offer",
   "metadata": {},
   "outputs": [
    {
     "ename": "ModuleNotFoundError",
     "evalue": "No module named 'neurokit2'",
     "output_type": "error",
     "traceback": [
      "\u001b[1;31m---------------------------------------------------------------------------\u001b[0m",
      "\u001b[1;31mModuleNotFoundError\u001b[0m                       Traceback (most recent call last)",
      "Cell \u001b[1;32mIn[2], line 1\u001b[0m\n\u001b[1;32m----> 1\u001b[0m \u001b[38;5;28;01mimport\u001b[39;00m \u001b[38;5;21;01mneurokit2\u001b[39;00m \u001b[38;5;28;01mas\u001b[39;00m \u001b[38;5;21;01mnk\u001b[39;00m\n\u001b[0;32m      3\u001b[0m \u001b[38;5;28;01mdef\u001b[39;00m \u001b[38;5;21mneurokit\u001b[39m(ecg, sampling_rate):\n\u001b[0;32m      4\u001b[0m     signal, info \u001b[38;5;241m=\u001b[39m nk\u001b[38;5;241m.\u001b[39mecg_peaks(ecg, sampling_rate\u001b[38;5;241m=\u001b[39msampling_rate, method\u001b[38;5;241m=\u001b[39m\u001b[38;5;124m\"\u001b[39m\u001b[38;5;124mneurokit\u001b[39m\u001b[38;5;124m\"\u001b[39m)\n",
      "\u001b[1;31mModuleNotFoundError\u001b[0m: No module named 'neurokit2'"
     ]
    }
   ],
   "source": [
    "import neurokit2 as nk\n",
    "\n",
    "def neurokit(ecg, sampling_rate):\n",
    "    signal, info = nk.ecg_peaks(ecg, sampling_rate=sampling_rate, method=\"neurokit\")\n",
    "    return info[\"ECG_R_Peaks\"]\n",
    "\n",
    "def pantompkins1985(ecg, sampling_rate):\n",
    "    signal, info = nk.ecg_peaks(ecg, sampling_rate=sampling_rate, method=\"pantompkins1985\")\n",
    "    return info[\"ECG_R_Peaks\"]\n",
    "\n",
    "def hamilton2002(ecg, sampling_rate):\n",
    "    signal, info = nk.ecg_peaks(ecg, sampling_rate=sampling_rate, method=\"hamilton2002\")\n",
    "    return info[\"ECG_R_Peaks\"]\n",
    "\n",
    "def martinez2003(ecg, sampling_rate):\n",
    "    signal, info = nk.ecg_peaks(ecg, sampling_rate=sampling_rate, method=\"martinez2003\")\n",
    "    return info[\"ECG_R_Peaks\"]\n",
    "\n",
    "def christov2004(ecg, sampling_rate):\n",
    "    signal, info = nk.ecg_peaks(ecg, sampling_rate=sampling_rate, method=\"christov2004\")\n",
    "    return info[\"ECG_R_Peaks\"]\n",
    "\n",
    "def gamboa2008(ecg, sampling_rate):\n",
    "    signal, info = nk.ecg_peaks(ecg, sampling_rate=sampling_rate, method=\"gamboa2008\")\n",
    "    return info[\"ECG_R_Peaks\"]\n",
    "\n",
    "def elgendi2010(ecg, sampling_rate):\n",
    "    signal, info = nk.ecg_peaks(ecg, sampling_rate=sampling_rate, method=\"elgendi2010\")\n",
    "    return info[\"ECG_R_Peaks\"]\n",
    "\n",
    "def engzeemod2012(ecg, sampling_rate):\n",
    "    signal, info = nk.ecg_peaks(ecg, sampling_rate=sampling_rate, method=\"engzeemod2012\")\n",
    "    return info[\"ECG_R_Peaks\"]\n",
    "\n",
    "def kalidas2017(ecg, sampling_rate):\n",
    "    signal, info = nk.ecg_peaks(ecg, sampling_rate=sampling_rate, method=\"kalidas2017\")\n",
    "    return info[\"ECG_R_Peaks\"]\n",
    "\n",
    "def rodrigues2020(ecg, sampling_rate):\n",
    "    signal, info = nk.ecg_peaks(ecg, sampling_rate=sampling_rate, method=\"rodrigues2020\")\n",
    "    return info[\"ECG_R_Peaks\"]"
   ]
  },
  {
   "cell_type": "code",
   "execution_count": 3,
   "id": "handy-given",
   "metadata": {},
   "outputs": [
    {
     "name": "stderr",
     "output_type": "stream",
     "text": [
      "D:\\UserFiles\\anaconda\\envs\\ia\\lib\\site-packages\\neurokit2\\signal\\signal_period.py:68: NeuroKitWarning: Too few peaks detected to compute the rate. Returning empty vector.\n",
      "  warn(\n"
     ]
    }
   ],
   "source": [
    "results = []\n",
    "for method in [neurokit, pantompkins1985, hamilton2002, martinez2003, christov2004,\n",
    "               gamboa2008, elgendi2010, engzeemod2012, kalidas2017, rodrigues2020]:\n",
    "    for i in range(len(rpeaks)):\n",
    "        data_ecg = pd.read_csv(ecgs[i])\n",
    "        result = nk.benchmark_ecg_preprocessing(method, data_ecg, rpeaks[i])\n",
    "        result[\"Method\"] = method.__name__\n",
    "        results.append(result)\n",
    "results = pd.concat(results).reset_index(drop=True)\n",
    "\n",
    "results.to_csv(\"data_detectors.csv\", index=False)"
   ]
  },
  {
   "cell_type": "markdown",
   "id": "776a1237-42bd-4837-af68-5dc4c5966270",
   "metadata": {},
   "source": [
    "library(tidyverse)\n",
    "library(easystats)\n",
    "library(lme4)\n",
    "\n",
    "data <- read.csv(\"data_detectors.csv\", stringsAsFactors = FALSE) %>%\n",
    "  mutate(Method = fct_relevel(Method, \"neurokit\", \"pantompkins1985\", \"hamilton2002\", \"martinez2003\", \"christov2004\", \"gamboa2008\", \"elgendi2010\", \"engzeemod2012\", \"kalidas2017\", \"rodrigues2020\"))\n",
    "\n",
    "colors <- c(\"neurokit\"=\"#E91E63\", \"pantompkins1985\"=\"#f44336\", \"hamilton2002\"=\"#FF5722\", \"martinez2003\"=\"#FF9800\", \"christov2004\"=\"#FFC107\", \"gamboa2008\"=\"#4CAF50\", \"elgendi2010\"=\"#009688\", \"engzeemod2012\"=\"#2196F3\", \"kalidas2017\"=\"#3F51B5\", \"rodrigues2020\"=\"#9C27B0\")"
   ]
  },
  {
   "cell_type": "markdown",
   "id": "82f72f6f-5373-4c6f-be65-763fd6188517",
   "metadata": {},
   "source": [
    "data %>%\n",
    "  mutate(Error = case_when(\n",
    "    Error == \"index -1 is out of bounds for axis 0 with size 0\" ~ \"index -1 out of bounds\",\n",
    "    Error == \"index 0 is out of bounds for axis 0 with size 0\" ~ \"index 0 out of bounds\",\n",
    "    TRUE ~ Error)) %>%\n",
    "  group_by(Database, Method) %>%\n",
    "  mutate(n = n()) %>%\n",
    "  group_by(Database, Method, Error) %>%\n",
    "  summarise(Percentage = n() / unique(n)) %>%\n",
    "  ungroup() %>%\n",
    "  mutate(Error = fct_relevel(Error, \"None\")) %>%\n",
    "  ggplot(aes(x=Error, y=Percentage, fill=Method)) +\n",
    "    geom_bar(stat=\"identity\", position = position_dodge2(preserve = \"single\")) +\n",
    "    facet_wrap(~Database, nrow=5) +\n",
    "    theme_modern() +\n",
    "    theme(axis.text.x = element_text(size = 7, angle = 45, hjust = 1)) +\n",
    "    scale_fill_manual(values=colors)"
   ]
  },
  {
   "cell_type": "markdown",
   "id": "88f4e457-4153-4341-8390-311154c415d6",
   "metadata": {},
   "source": [
    "data <- filter(data, Error == \"None\")\n",
    "data <- filter(data, !is.na(Score))"
   ]
  },
  {
   "cell_type": "code",
   "execution_count": null,
   "id": "intermediate-moral",
   "metadata": {},
   "outputs": [],
   "source": [
    "# Normalize duration\n",
    "data <- data %>%\n",
    "  mutate(Duration = (Duration) / (Recording_Length * Sampling_Rate))\n",
    "\n",
    "data %>%\n",
    "  ggplot(aes(x=Method, y=Duration, fill=Method)) +\n",
    "    geom_jitter2(aes(color=Method, group=Database), size=3, alpha=0.2, position=position_jitterdodge()) +\n",
    "    geom_boxplot(aes(alpha=Database), outlier.alpha = 0) +\n",
    "    geom_hline(yintercept=0, linetype=\"dotted\") +\n",
    "    theme_modern() +\n",
    "    theme(axis.text.x = element_text(angle = 45, hjust = 1)) +\n",
    "    scale_alpha_manual(values=seq(0, 1, length.out=8)) +\n",
    "    scale_color_manual(values=colors) +\n",
    "    scale_fill_manual(values=colors) +\n",
    "    scale_y_sqrt() +\n",
    "    ylab(\"Duration (seconds per data sample)\")"
   ]
  },
  {
   "cell_type": "code",
   "execution_count": null,
   "id": "major-founder",
   "metadata": {},
   "outputs": [],
   "source": [
    "model <- lmer(Duration ~ Method + (1|Database) + (1|Participant), data=data)\n",
    "\n",
    "means <- modelbased::estimate_means(model)\n",
    "\n",
    "arrange(means, Mean)\n",
    "## Estimated Marginal Means\n",
    "##\n",
    "## Method          |     Mean |       SE |       95% CI\n",
    "## ----------------------------------------------------\n",
    "## gamboa2008      | 2.90e-05 | 1.18e-05 | [0.00, 0.00]\n",
    "## neurokit        | 3.25e-05 | 1.17e-05 | [0.00, 0.00]\n",
    "## martinez2003    | 6.59e-05 | 1.18e-05 | [0.00, 0.00]\n",
    "## kalidas2017     | 7.80e-05 | 1.17e-05 | [0.00, 0.00]\n",
    "## rodrigues2020   | 1.29e-04 | 1.17e-05 | [0.00, 0.00]\n",
    "## hamilton2002    | 1.68e-04 | 1.17e-05 | [0.00, 0.00]\n",
    "## engzeemod2012   | 5.10e-04 | 1.18e-05 | [0.00, 0.00]\n",
    "## pantompkins1985 | 5.64e-04 | 1.17e-05 | [0.00, 0.00]\n",
    "## elgendi2010     | 9.80e-04 | 1.18e-05 | [0.00, 0.00]\n",
    "## christov2004    | 1.25e-03 | 1.17e-05 | [0.00, 0.00]\n",
    "##\n",
    "## Marginal means estimated at Method\n",
    "\n",
    "means %>%\n",
    "  ggplot(aes(x=Method, y=Mean, color=Method)) +\n",
    "  geom_line(aes(group=1), size=1) +\n",
    "  geom_pointrange(aes(ymin=CI_low, ymax=CI_high), size=1) +\n",
    "  geom_hline(yintercept=0, linetype=\"dotted\") +\n",
    "  theme_modern() +\n",
    "  theme(axis.text.x = element_text(angle = 45, hjust = 1)) +\n",
    "  scale_color_manual(values=colors) +\n",
    "    ylab(\"Duration (seconds per data sample)\")"
   ]
  },
  {
   "cell_type": "code",
   "execution_count": null,
   "id": "supported-opinion",
   "metadata": {},
   "outputs": [],
   "source": [
    "data <- data %>%\n",
    "  mutate(Outlier = performance::check_outliers(Score, threshold = list(zscore = stats::qnorm(p = 1 - 0.000001)))) %>%\n",
    "  filter(Outlier == 0)\n",
    "\n",
    "data %>%\n",
    "  ggplot(aes(x=Database, y=Score)) +\n",
    "    geom_boxplot(aes(fill=Method), outlier.alpha = 0, alpha=1) +\n",
    "    geom_jitter2(aes(color=Method, group=Method), size=3, alpha=0.2, position=position_jitterdodge()) +\n",
    "    geom_hline(yintercept=0, linetype=\"dotted\") +\n",
    "    theme_modern() +\n",
    "    theme(axis.text.x = element_text(angle = 45, hjust = 1)) +\n",
    "    scale_color_manual(values=colors) +\n",
    "    scale_fill_manual(values=colors) +\n",
    "    scale_y_sqrt() +\n",
    "    ylab(\"Amount of Error\")"
   ]
  },
  {
   "cell_type": "markdown",
   "id": "5a4dd44d-6530-4c33-80ac-3eff9f7d9ed8",
   "metadata": {},
   "source": [
    "model <- lmer(Score ~ Method + (1|Database) + (1|Participant), data=data)\n",
    "\n",
    "means <- modelbased::estimate_means(model)\n",
    "\n",
    "arrange(means, abs(Mean))\n",
    "## Estimated Marginal Means\n",
    "##\n",
    "## Method          | Mean |       SE |       95% CI\n",
    "## ------------------------------------------------\n",
    "## neurokit        | 0.01 | 4.89e-03 | [0.00, 0.02]\n",
    "## kalidas2017     | 0.02 | 4.90e-03 | [0.01, 0.03]\n",
    "## martinez2003    | 0.02 | 5.25e-03 | [0.01, 0.03]\n",
    "## christov2004    | 0.05 | 5.11e-03 | [0.04, 0.06]\n",
    "## engzeemod2012   | 0.05 | 5.30e-03 | [0.04, 0.06]\n",
    "## pantompkins1985 | 0.07 | 5.11e-03 | [0.06, 0.08]\n",
    "## rodrigues2020   | 0.07 | 5.11e-03 | [0.06, 0.08]\n",
    "## hamilton2002    | 0.08 | 5.18e-03 | [0.07, 0.09]\n",
    "## elgendi2010     | 0.09 | 5.13e-03 | [0.08, 0.10]\n",
    "## gamboa2008      | 0.22 | 8.02e-03 | [0.20, 0.24]\n",
    "##\n",
    "## Marginal means estimated at Method\n",
    "\n",
    "means %>%\n",
    "  ggplot(aes(x=Method, y=Mean, color=Method)) +\n",
    "  geom_line(aes(group=1), size=1) +\n",
    "  geom_pointrange(aes(ymin=CI_low, ymax=CI_high), size=1) +\n",
    "  geom_hline(yintercept=0, linetype=\"dotted\") +\n",
    "  theme_modern() +\n",
    "  theme(axis.text.x = element_text(angle = 45, hjust = 1)) +\n",
    "  scale_color_manual(values=colors) +\n",
    "    ylab(\"Amount of Error\")"
   ]
  },
  {
   "cell_type": "code",
   "execution_count": null,
   "id": "joint-spirituality",
   "metadata": {},
   "outputs": [],
   "source": []
  }
 ],
 "metadata": {
  "kernelspec": {
   "display_name": "Python 3 (ipykernel)",
   "language": "python",
   "name": "python3"
  },
  "language_info": {
   "codemirror_mode": {
    "name": "ipython",
    "version": 3
   },
   "file_extension": ".py",
   "mimetype": "text/x-python",
   "name": "python",
   "nbconvert_exporter": "python",
   "pygments_lexer": "ipython3",
   "version": "3.10.11"
  }
 },
 "nbformat": 4,
 "nbformat_minor": 5
}
